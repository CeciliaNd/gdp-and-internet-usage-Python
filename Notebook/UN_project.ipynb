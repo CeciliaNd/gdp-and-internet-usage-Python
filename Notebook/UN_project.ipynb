{
 "cells": [
  {
   "cell_type": "code",
   "execution_count": 1,
   "id": "3c2b0f58",
   "metadata": {},
   "outputs": [],
   "source": [
    "import pandas as pd\n",
    "import numpy as np\n",
    "import matplotlib.pyplot as plt\n",
    "import seaborn as sns"
   ]
  },
  {
   "cell_type": "markdown",
   "id": "574505c4",
   "metadata": {},
   "source": [
    "4. Use the %matplotlib inline magic command so that your plots show in the notebook without having to call plt.show() every time."
   ]
  },
  {
   "cell_type": "code",
   "execution_count": 2,
   "id": "42869f82",
   "metadata": {},
   "outputs": [],
   "source": [
    "%matplotlib inline"
   ]
  },
  {
   "cell_type": "markdown",
   "id": "1f790aa7",
   "metadata": {},
   "source": [
    "5. Using the pandas read_csv() method, read the GDP dataset into your notebook as a DataFrame called gdp_df. Take a look at the first 6 rows."
   ]
  },
  {
   "cell_type": "code",
   "execution_count": 3,
   "id": "32d720a7",
   "metadata": {},
   "outputs": [],
   "source": [
    "gdp_df = pd.read_csv(\"../Data/gdp_percapita.csv\", nrows=6868)\n"
   ]
  },
  {
   "cell_type": "markdown",
   "id": "2cd6f5dc",
   "metadata": {},
   "source": [
    "6. Repeat for the internet use dataset. Call this DataFrame internet_df. Take a look at the first six rows."
   ]
  },
  {
   "cell_type": "code",
   "execution_count": 4,
   "id": "64ead2ac",
   "metadata": {},
   "outputs": [],
   "source": [
    "internet_df = pd.read_csv(\"../Data/internet_use.csv\", nrows=4495)"
   ]
  },
  {
   "cell_type": "markdown",
   "id": "070531b9",
   "metadata": {},
   "source": [
    "7. Look at the shape of each DataFrame - how many rows? How many columns?"
   ]
  },
  {
   "cell_type": "code",
   "execution_count": 5,
   "id": "eb46722d",
   "metadata": {},
   "outputs": [
    {
     "data": {
      "text/plain": [
       "(6868, 4)"
      ]
     },
     "execution_count": 5,
     "metadata": {},
     "output_type": "execute_result"
    }
   ],
   "source": [
    "gdp_df.shape"
   ]
  },
  {
   "cell_type": "code",
   "execution_count": 6,
   "id": "1a7c3955",
   "metadata": {},
   "outputs": [
    {
     "data": {
      "text/plain": [
       "4495"
      ]
     },
     "execution_count": 6,
     "metadata": {},
     "output_type": "execute_result"
    }
   ],
   "source": [
    "len(internet_df)"
   ]
  },
  {
   "cell_type": "markdown",
   "id": "b50c13c0",
   "metadata": {},
   "source": [
    "8. Take a look at the datatypes for the columns in each DataFrame"
   ]
  },
  {
   "cell_type": "code",
   "execution_count": 7,
   "id": "acd0d71f",
   "metadata": {},
   "outputs": [
    {
     "data": {
      "text/plain": [
       "pandas.core.frame.DataFrame"
      ]
     },
     "execution_count": 7,
     "metadata": {},
     "output_type": "execute_result"
    }
   ],
   "source": [
    "type(gdp_df)"
   ]
  },
  {
   "cell_type": "code",
   "execution_count": 8,
   "id": "067a9a30",
   "metadata": {},
   "outputs": [
    {
     "data": {
      "text/plain": [
       "pandas.core.frame.DataFrame"
      ]
     },
     "execution_count": 8,
     "metadata": {},
     "output_type": "execute_result"
    }
   ],
   "source": [
    "type(internet_df)"
   ]
  },
  {
   "cell_type": "markdown",
   "id": "3dc2e8a3",
   "metadata": {},
   "source": [
    "9. Take a look at the last 10 rows of each DataFrame in turn."
   ]
  },
  {
   "cell_type": "code",
   "execution_count": 9,
   "id": "a86050e2",
   "metadata": {
    "scrolled": true
   },
   "outputs": [
    {
     "name": "stdout",
     "output_type": "stream",
     "text": [
      "     Country or Area  Year        Value  Value Footnotes\n",
      "6858        Zimbabwe  1999  3600.849291              NaN\n",
      "6859        Zimbabwe  1998  3653.920016              NaN\n",
      "6860        Zimbabwe  1997  3580.048793              NaN\n",
      "6861        Zimbabwe  1996  3520.430146              NaN\n",
      "6862        Zimbabwe  1995  3226.413930              NaN\n",
      "6863        Zimbabwe  1994  3263.934978              NaN\n",
      "6864        Zimbabwe  1993  3033.504852              NaN\n",
      "6865        Zimbabwe  1992  3054.889178              NaN\n",
      "6866        Zimbabwe  1991  3426.598094              NaN\n",
      "6867        Zimbabwe  1990  3324.348171              NaN\n"
     ]
    }
   ],
   "source": [
    "rows = gdp_df.tail(10)\n",
    "\n",
    "print(rows)"
   ]
  },
  {
   "cell_type": "code",
   "execution_count": 10,
   "id": "55ed3622",
   "metadata": {},
   "outputs": [
    {
     "name": "stdout",
     "output_type": "stream",
     "text": [
      "     Country or Area  Year     Value  Value Footnotes\n",
      "4485        Zimbabwe  2002  3.994356              NaN\n",
      "4486        Zimbabwe  2001  0.799846              NaN\n",
      "4487        Zimbabwe  2000  0.401434              NaN\n",
      "4488        Zimbabwe  1999  0.161676              NaN\n",
      "4489        Zimbabwe  1998  0.081648              NaN\n",
      "4490        Zimbabwe  1997  0.033080              NaN\n",
      "4491        Zimbabwe  1996  0.016790              NaN\n",
      "4492        Zimbabwe  1995  0.007684              NaN\n",
      "4493        Zimbabwe  1994  0.001739              NaN\n",
      "4494        Zimbabwe  1990  0.000000              NaN\n"
     ]
    }
   ],
   "source": [
    "last10 = internet_df[-10:]\n",
    "\n",
    "print(last10)"
   ]
  },
  {
   "cell_type": "markdown",
   "id": "fa63b143",
   "metadata": {},
   "source": [
    "10. Drop the value footnotes column from both DataFrames. Check that this worked as expected."
   ]
  },
  {
   "cell_type": "code",
   "execution_count": 11,
   "id": "ff96778a",
   "metadata": {},
   "outputs": [],
   "source": [
    "gdp_df.drop = ['value footnotes']"
   ]
  },
  {
   "cell_type": "code",
   "execution_count": 12,
   "id": "1bf7ff12",
   "metadata": {},
   "outputs": [
    {
     "name": "stdout",
     "output_type": "stream",
     "text": [
      "['Country or Area', 'Year', 'Value']\n"
     ]
    }
   ],
   "source": [
    "internet_df = [\"Country or Area\", \"Year\", \"Value\", \"Value Footnotes\"]\n",
    "internet_df.remove (\"Value Footnotes\")\n",
    "print(internet_df)"
   ]
  },
  {
   "cell_type": "markdown",
   "id": "d17d983c",
   "metadata": {},
   "source": [
    "11. Change the columns for the GDP Per Capita DataFrame to ‘Country’, ‘Year’, and ‘GDP_Per_Capita’."
   ]
  },
  {
   "cell_type": "code",
   "execution_count": 13,
   "id": "114cc589",
   "metadata": {},
   "outputs": [
    {
     "name": "stdout",
     "output_type": "stream",
     "text": [
      "['Country', 'Year', 'GDP_Per_Capita']\n"
     ]
    }
   ],
   "source": [
    "new_columns= ['Country','Year', 'GDP_Per_Capita']\n",
    "print(new_columns)"
   ]
  },
  {
   "cell_type": "markdown",
   "id": "0dd1d6b2",
   "metadata": {},
   "source": [
    "12. Change the columns for the Internet Users DataFrame to ‘Country’, ‘Year’, and ‘Internet_Users_Pct’.\n",
    "\n",
    "\n"
   ]
  },
  {
   "cell_type": "code",
   "execution_count": 14,
   "id": "be2b830a",
   "metadata": {},
   "outputs": [
    {
     "name": "stdout",
     "output_type": "stream",
     "text": [
      "['Country', 'Year', 'Internet_Users_Pct']\n"
     ]
    }
   ],
   "source": [
    "internet_pdf = ['Country', 'Year', 'Internet_Users_Pct']\n",
    "print(internet_pdf)"
   ]
  },
  {
   "cell_type": "markdown",
   "id": "27694988",
   "metadata": {},
   "source": [
    "13. Merge the two DataFrames to one. Merge all rows from each of the two DataFrames. Call the new DataFrame gdp_and_internet_use."
   ]
  },
  {
   "cell_type": "code",
   "execution_count": 15,
   "id": "5491d233",
   "metadata": {},
   "outputs": [
    {
     "name": "stdout",
     "output_type": "stream",
     "text": [
      "                    0 Country or Area  Year        Value  Value Footnotes\n",
      "0     Country or Area     Afghanistan  2019  2065.036398              NaN\n",
      "1                Year     Afghanistan  2018  2033.779002              NaN\n",
      "2               Value     Afghanistan  2017  2058.383832              NaN\n",
      "3                 NaN     Afghanistan  2016  2057.062164              NaN\n",
      "4                 NaN     Afghanistan  2015  2068.265904              NaN\n",
      "...               ...             ...   ...          ...              ...\n",
      "6863              NaN        Zimbabwe  1994  3263.934978              NaN\n",
      "6864              NaN        Zimbabwe  1993  3033.504852              NaN\n",
      "6865              NaN        Zimbabwe  1992  3054.889178              NaN\n",
      "6866              NaN        Zimbabwe  1991  3426.598094              NaN\n",
      "6867              NaN        Zimbabwe  1990  3324.348171              NaN\n",
      "\n",
      "[6868 rows x 5 columns]\n"
     ]
    }
   ],
   "source": [
    "\n",
    "s1 = pd.Series(['Country or Area', 'Year', 'Value'])\n",
    "gdp_and_internet_use = pd.concat([s1, gdp_df], axis =1)\n",
    "print(gdp_and_internet_use)\n"
   ]
  },
  {
   "cell_type": "markdown",
   "id": "df5c8cfd",
   "metadata": {},
   "source": [
    "14. Look at the first five rows of your new DataFrame to confirm it merged correctly."
   ]
  },
  {
   "cell_type": "code",
   "execution_count": 16,
   "id": "5b9f65c9",
   "metadata": {},
   "outputs": [
    {
     "name": "stdout",
     "output_type": "stream",
     "text": [
      "                 0 Country or Area  Year        Value  Value Footnotes\n",
      "0  Country or Area     Afghanistan  2019  2065.036398              NaN\n",
      "1             Year     Afghanistan  2018  2033.779002              NaN\n",
      "2            Value     Afghanistan  2017  2058.383832              NaN\n",
      "3              NaN     Afghanistan  2016  2057.062164              NaN\n",
      "4              NaN     Afghanistan  2015  2068.265904              NaN\n"
     ]
    }
   ],
   "source": [
    "df = gdp_and_internet_use.head(5)\n",
    "print(df)"
   ]
  },
  {
   "cell_type": "markdown",
   "id": "ffc71557",
   "metadata": {},
   "source": [
    "15. Look at the last five rows to make sure the data is clean and as expected.\n",
    "\n"
   ]
  },
  {
   "cell_type": "code",
   "execution_count": 17,
   "id": "98f56596",
   "metadata": {},
   "outputs": [
    {
     "name": "stdout",
     "output_type": "stream",
     "text": [
      "        0 Country or Area  Year        Value  Value Footnotes\n",
      "6863  NaN        Zimbabwe  1994  3263.934978              NaN\n",
      "6864  NaN        Zimbabwe  1993  3033.504852              NaN\n",
      "6865  NaN        Zimbabwe  1992  3054.889178              NaN\n",
      "6866  NaN        Zimbabwe  1991  3426.598094              NaN\n",
      "6867  NaN        Zimbabwe  1990  3324.348171              NaN\n"
     ]
    }
   ],
   "source": [
    "df = gdp_and_internet_use.tail(5)\n",
    "print(df)"
   ]
  },
  {
   "cell_type": "markdown",
   "id": "234ca520",
   "metadata": {},
   "source": [
    "16. Subset the combined DataFrame to keep only the data for 2004, 2009, and 2014. Check that this happened correctly."
   ]
  },
  {
   "cell_type": "code",
   "execution_count": 18,
   "id": "3839de96",
   "metadata": {},
   "outputs": [
    {
     "name": "stdout",
     "output_type": "stream",
     "text": [
      "        0 Country or Area  Year         Value  Value Footnotes\n",
      "5     NaN     Afghanistan  2014   2102.385234              NaN\n",
      "10    NaN     Afghanistan  2009   1758.904043              NaN\n",
      "15    NaN     Afghanistan  2004   1200.278256              NaN\n",
      "23    NaN         Albania  2014  11623.866679              NaN\n",
      "28    NaN         Albania  2009  10346.864199              NaN\n",
      "...   ...             ...   ...           ...              ...\n",
      "6818  NaN          Zambia  2009   2917.516220              NaN\n",
      "6823  NaN          Zambia  2004   2261.766537              NaN\n",
      "6843  NaN        Zimbabwe  2014   2955.240287              NaN\n",
      "6848  NaN        Zimbabwe  2009   1925.364381              NaN\n",
      "6853  NaN        Zimbabwe  2004   2480.859342              NaN\n",
      "\n",
      "[708 rows x 5 columns]\n"
     ]
    }
   ],
   "source": [
    "year = gdp_and_internet_use[gdp_and_internet_use[\"Year\"].isin([2004, 2009, 2014])]\n",
    "print(year)\n"
   ]
  },
  {
   "cell_type": "markdown",
   "id": "0487a86f",
   "metadata": {},
   "source": [
    "17. Create three new DataFrames, one for 2004, one for 2009, and one for 2014. Give them meaningful names that aren't too long."
   ]
  },
  {
   "cell_type": "code",
   "execution_count": 57,
   "id": "e3e04057",
   "metadata": {},
   "outputs": [
    {
     "name": "stdout",
     "output_type": "stream",
     "text": [
      "2004\n"
     ]
    }
   ],
   "source": [
    "year = gdp_and_internet_use[\"Year\"] = 2004\n",
    "print(year)"
   ]
  },
  {
   "cell_type": "markdown",
   "id": "0db0ba80",
   "metadata": {},
   "source": [
    "### 18. Which country had the highest percentage of internet users in 2014? What was the percentage? (Try typing the first 3 letters of your DataFrame name and hitting the tab key for auto-complete options)."
   ]
  },
  {
   "cell_type": "code",
   "execution_count": 41,
   "id": "9c33631a",
   "metadata": {},
   "outputs": [
    {
     "data": {
      "text/plain": [
       "0                             NaN\n",
       "Country or Area    European Union\n",
       "Year                         1996\n",
       "Value                30901.408344\n",
       "Value Footnotes               NaN\n",
       "Name: 2014, dtype: object"
      ]
     },
     "execution_count": 41,
     "metadata": {},
     "output_type": "execute_result"
    }
   ],
   "source": [
    "year_2004 = gdp_and_internet_use.loc[2014]    \n",
    "    \n",
    "# max_year = max(year_2004)\n",
    "\n",
    "# print(max_year)\n",
    "\n",
    "year_2004.head()"
   ]
  },
  {
   "cell_type": "markdown",
   "id": "9513ab27",
   "metadata": {},
   "source": [
    "Which country had the lowest percentage of internet users in 2014? What was the percentage?\n"
   ]
  },
  {
   "cell_type": "code",
   "execution_count": null,
   "id": "fa87307a",
   "metadata": {},
   "outputs": [],
   "source": []
  },
  {
   "cell_type": "code",
   "execution_count": null,
   "id": "f67b5685",
   "metadata": {},
   "outputs": [],
   "source": []
  }
 ],
 "metadata": {
  "kernelspec": {
   "display_name": "Python 3 (ipykernel)",
   "language": "python",
   "name": "python3"
  },
  "language_info": {
   "codemirror_mode": {
    "name": "ipython",
    "version": 3
   },
   "file_extension": ".py",
   "mimetype": "text/x-python",
   "name": "python",
   "nbconvert_exporter": "python",
   "pygments_lexer": "ipython3",
   "version": "3.9.12"
  }
 },
 "nbformat": 4,
 "nbformat_minor": 5
}
